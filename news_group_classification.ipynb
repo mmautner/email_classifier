{
 "metadata": {
  "name": ""
 },
 "nbformat": 3,
 "nbformat_minor": 0,
 "worksheets": [
  {
   "cells": [
    {
     "cell_type": "markdown",
     "metadata": {},
     "source": [
      "# News Group Classification w/ Scikit-Learn\n",
      "\n",
      "Adopted from here, courtesy of the Scikit-Learn folks:\n",
      "\n",
      "http://scikit-learn.org/stable/auto_examples/document_classification_20newsgroups.html\n",
      "\n",
      "License: BSD 3 clause:\n",
      "\n",
      "    Copyright (c) <year>, <copyright holder>\n",
      "    All rights reserved.\n",
      "    \n",
      "    Redistribution and use in source and binary forms, with or without\n",
      "    modification, are permitted provided that the following conditions are met:\n",
      "        * Redistributions of source code must retain the above copyright\n",
      "          notice, this list of conditions and the following disclaimer.\n",
      "        * Redistributions in binary form must reproduce the above copyright\n",
      "          notice, this list of conditions and the following disclaimer in the\n",
      "          documentation and/or other materials provided with the distribution.\n",
      "        * Neither the name of the <organization> nor the\n",
      "          names of its contributors may be used to endorse or promote products\n",
      "          derived from this software without specific prior written permission.\n",
      "    \n",
      "    THIS SOFTWARE IS PROVIDED BY THE COPYRIGHT HOLDERS AND CONTRIBUTORS \"AS IS\" AND\n",
      "    ANY EXPRESS OR IMPLIED WARRANTIES, INCLUDING, BUT NOT LIMITED TO, THE IMPLIED\n",
      "    WARRANTIES OF MERCHANTABILITY AND FITNESS FOR A PARTICULAR PURPOSE ARE\n",
      "    DISCLAIMED. IN NO EVENT SHALL <COPYRIGHT HOLDER> BE LIABLE FOR ANY\n",
      "    DIRECT, INDIRECT, INCIDENTAL, SPECIAL, EXEMPLARY, OR CONSEQUENTIAL DAMAGES\n",
      "    (INCLUDING, BUT NOT LIMITED TO, PROCUREMENT OF SUBSTITUTE GOODS OR SERVICES;\n",
      "    LOSS OF USE, DATA, OR PROFITS; OR BUSINESS INTERRUPTION) HOWEVER CAUSED AND\n",
      "    ON ANY THEORY OF LIABILITY, WHETHER IN CONTRACT, STRICT LIABILITY, OR TORT\n",
      "    (INCLUDING NEGLIGENCE OR OTHERWISE) ARISING IN ANY WAY OUT OF THE USE OF THIS\n",
      "    SOFTWARE, EVEN IF ADVISED OF THE POSSIBILITY OF SUCH DAMAGE.\n",
      "   \n",
      "Some preliminary imports:"
     ]
    },
    {
     "cell_type": "code",
     "collapsed": false,
     "input": [
      "import numpy as np\n",
      "import sys\n",
      "from time import time\n",
      "import matplotlib.pyplot as plt"
     ],
     "language": "python",
     "metadata": {},
     "outputs": [],
     "prompt_number": 1
    },
    {
     "cell_type": "markdown",
     "metadata": {},
     "source": [
      "# Load some categories from the training set"
     ]
    },
    {
     "cell_type": "code",
     "collapsed": false,
     "input": [
      "categories = [\n",
      "    'alt.atheism',\n",
      "    'talk.religion.misc',\n",
      "    'comp.graphics',\n",
      "    'sci.space',\n",
      "]\n",
      "remove = ('headers', 'footers', 'quotes')"
     ],
     "language": "python",
     "metadata": {},
     "outputs": [],
     "prompt_number": 2
    },
    {
     "cell_type": "code",
     "collapsed": false,
     "input": [
      "from sklearn.datasets import fetch_20newsgroups\n",
      "data = fetch_20newsgroups(subset='all', categories=categories, shuffle=True, remove=remove)"
     ],
     "language": "python",
     "metadata": {},
     "outputs": [],
     "prompt_number": 3
    },
    {
     "cell_type": "code",
     "collapsed": false,
     "input": [
      "categories = data.target_names\n",
      "categories"
     ],
     "language": "python",
     "metadata": {},
     "outputs": [
      {
       "metadata": {},
       "output_type": "pyout",
       "prompt_number": 4,
       "text": [
        "['alt.atheism', 'comp.graphics', 'sci.space', 'talk.religion.misc']"
       ]
      }
     ],
     "prompt_number": 4
    },
    {
     "cell_type": "markdown",
     "metadata": {},
     "source": [
      "Let's take a peak at how much data we've got:"
     ]
    },
    {
     "cell_type": "code",
     "collapsed": false,
     "input": [
      "def size_mb(docs):\n",
      "    return sum(len(s.encode('utf-8')) for s in docs) / 1e6\n",
      "\n",
      "data_size_mb = size_mb(data.data)\n",
      "\n",
      "print \"%d documents - %0.3fMB\" % (len(data.data), data_size_mb)\n",
      "print \"%d categories\" % len(categories)"
     ],
     "language": "python",
     "metadata": {},
     "outputs": [
      {
       "output_type": "stream",
       "stream": "stdout",
       "text": [
        "3387 documents - 4.228MB\n",
        "4 categories\n"
       ]
      }
     ],
     "prompt_number": 5
    },
    {
     "cell_type": "code",
     "collapsed": false,
     "input": [
      "y = data.target"
     ],
     "language": "python",
     "metadata": {},
     "outputs": [],
     "prompt_number": 6
    },
    {
     "cell_type": "markdown",
     "metadata": {},
     "source": [
      "Extracting features from the training dataset using a sparse vectorizer:"
     ]
    },
    {
     "cell_type": "code",
     "collapsed": false,
     "input": [
      "from sklearn.feature_extraction.text import TfidfVectorizer\n",
      "#from sklearn.feature_extraction.text import HashingVectorizer\n",
      "t0 = time()\n",
      "\n",
      "#vectorizer = HashingVectorizer(stop_words='english', non_negative=True, n_features=5000)\n",
      "#X_train = vectorizer.transform(data_train.data)\n",
      "vectorizer = TfidfVectorizer(sublinear_tf=True, max_df=0.5, stop_words='english')\n",
      "X = vectorizer.fit_transform(data.data)\n",
      "\n",
      "duration = time() - t0\n",
      "print \"done in %fs at %0.3fMB/s\" % (duration, data_size_mb / duration)\n",
      "print \"n_samples: %d, n_features: %d\" % X.shape"
     ],
     "language": "python",
     "metadata": {},
     "outputs": [
      {
       "output_type": "stream",
       "stream": "stdout",
       "text": [
        "done in 0.949662s at 4.452MB/s\n",
        "n_samples: 3387, n_features: 33530\n"
       ]
      }
     ],
     "prompt_number": 7
    },
    {
     "cell_type": "code",
     "collapsed": false,
     "input": [
      "# mapping from integer feature name to original token string\n",
      "# if using hash vectorizer:\n",
      "#feature_names = None\n",
      "feature_names = np.asarray(vectorizer.get_feature_names())"
     ],
     "language": "python",
     "metadata": {},
     "outputs": [],
     "prompt_number": 8
    },
    {
     "cell_type": "code",
     "collapsed": false,
     "input": [
      "len(feature_names), feature_names[:5]"
     ],
     "language": "python",
     "metadata": {},
     "outputs": [
      {
       "metadata": {},
       "output_type": "pyout",
       "prompt_number": 9,
       "text": [
        "(33530,\n",
        " array([u'00', u'000', u'0000', u'00000', u'000000'], \n",
        "      dtype='<U80'))"
       ]
      }
     ],
     "prompt_number": 9
    },
    {
     "cell_type": "code",
     "collapsed": false,
     "input": [
      "from sklearn import metrics\n",
      "\n",
      "def benchmark(clf, X_train, y_train, X_test, y_test):\n",
      "    clf.fit(X_train, y_train)\n",
      "    pred = clf.predict(X_test)\n",
      "    score = metrics.f1_score(y_test, pred)\n",
      "    #print \"f1-score:   %0.3f\" % score\n",
      "    #print metrics.classification_report(y_test, pred, target_names=categories)\n",
      "    #print metrics.confusion_matrix(y_test, pred)\n",
      "    return score"
     ],
     "language": "python",
     "metadata": {},
     "outputs": [],
     "prompt_number": 10
    },
    {
     "cell_type": "markdown",
     "metadata": {},
     "source": [
      "Benchmark classifiers:"
     ]
    },
    {
     "cell_type": "code",
     "collapsed": false,
     "input": [
      "from sklearn.cross_validation import ShuffleSplit\n",
      "from sklearn.svm import LinearSVC\n",
      "from sklearn.naive_bayes import BernoulliNB, MultinomialNB\n",
      "from collections import defaultdict\n",
      "\n",
      "classifiers = [\n",
      "    (LinearSVC, {'loss': 'l2', 'penalty': 'l2', 'dual': False, 'tol': 1e-3}),\n",
      "    (MultinomialNB, {'alpha': .01}),\n",
      "    (BernoulliNB, {'alpha': .01}),\n",
      "]\n",
      "\n",
      "xs = np.linspace(250, X.shape[0], 12).astype(int)\n",
      "ys = defaultdict(list)\n",
      "errors = defaultdict(list)\n",
      "names = []\n",
      "for clf, kwargs in classifiers:\n",
      "    name = clf.__name__\n",
      "    print name\n",
      "    sys.stdout.flush()\n",
      "    for x in xs:\n",
      "        scores = []\n",
      "        s = ShuffleSplit(x, n_iter=10, test_size=.1)\n",
      "        for train, test in s:\n",
      "            scores.append(benchmark(clf(**kwargs), X[train], y[train], X[test], y[test]))\n",
      "        ys[name].append(np.mean(scores))\n",
      "        errors[name].append(np.std(scores)*2)\n",
      "    names.append(name)"
     ],
     "language": "python",
     "metadata": {},
     "outputs": [
      {
       "output_type": "stream",
       "stream": "stdout",
       "text": [
        "LinearSVC\n"
       ]
      },
      {
       "output_type": "stream",
       "stream": "stderr",
       "text": [
        "/usr/local/Cellar/python/2.7.6/Frameworks/Python.framework/Versions/2.7/lib/python2.7/site-packages/sklearn/metrics/metrics.py:1249: UserWarning: The precision and recall are equal to zero for some labels. fbeta_score is ill defined for those labels [3]. \n",
        "  average=average)\n",
        "/usr/local/Cellar/python/2.7.6/Frameworks/Python.framework/Versions/2.7/lib/python2.7/site-packages/sklearn/metrics/metrics.py:1249: UserWarning: The sum of true positives and false positives are equal to zero for some labels. Precision is ill defined for those labels [3]. The precision and recall are equal to zero for some labels. fbeta_score is ill defined for those labels [3]. \n",
        "  average=average)\n"
       ]
      },
      {
       "output_type": "stream",
       "stream": "stdout",
       "text": [
        "MultinomialNB\n"
       ]
      },
      {
       "output_type": "stream",
       "stream": "stdout",
       "text": [
        "BernoulliNB\n"
       ]
      },
      {
       "output_type": "stream",
       "stream": "stderr",
       "text": [
        "/usr/local/Cellar/python/2.7.6/Frameworks/Python.framework/Versions/2.7/lib/python2.7/site-packages/sklearn/metrics/metrics.py:1249: UserWarning: The precision and recall are equal to zero for some labels. fbeta_score is ill defined for those labels [0]. \n",
        "  average=average)\n"
       ]
      }
     ],
     "prompt_number": 11
    },
    {
     "cell_type": "code",
     "collapsed": false,
     "input": [
      "plt.figure(figsize=(10, 8))\n",
      "for name in names:\n",
      "    plt.errorbar(xs, ys[name], yerr=errors[name], label=name)\n",
      "plt.gca().set_xlim((0, X.shape[0]))\n",
      "plt.gca().set_ylim((0, 1.))\n",
      "plt.grid()\n",
      "plt.gca().set_ylabel(\"score\")\n",
      "plt.gca().set_xlabel(\"# of documents\")\n",
      "plt.legend(loc=4)\n",
      "plt.title(\"Corpus size (News Groups) vs. Classifier accuracy, w/ 95% confidence intervals\")\n",
      "plt.tight_layout()"
     ],
     "language": "python",
     "metadata": {},
     "outputs": [
      {
       "metadata": {},
       "output_type": "display_data",
       "png": "[encoded data removed]",
       "text": [
        "<matplotlib.figure.Figure at 0x10f84be50>"
       ]
      }
     ],
     "prompt_number": 12
    }
   ],
   "metadata": {}
  }
 ]
}